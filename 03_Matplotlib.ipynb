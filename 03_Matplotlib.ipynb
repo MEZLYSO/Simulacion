{
 "cells": [
  {
   "cell_type": "markdown",
   "id": "1f55c57f",
   "metadata": {},
   "source": []
  }
 ],
 "metadata": {
  "language_info": {
   "name": "python"
  }
 },
 "nbformat": 4,
 "nbformat_minor": 5
}
