{
 "cells": [
  {
   "cell_type": "markdown",
   "id": "fb18a7fc",
   "metadata": {},
   "source": [
    "# Regresion Logistica: Deteccion de Spam\n",
    "\n",
    "En este ejercicio se muestran los fundamentos de la regresion logistica planteando uno de los primeros problemas que fueron solucionados con el uso de tecnicas de ***Machine Learning***: Deteccion de SPAM."
   ]
  },
  {
   "cell_type": "markdown",
   "id": "b554ac8e",
   "metadata": {},
   "source": [
    "***La regresion lineal ayuda a predecir eventos a futuro, mientras que la logistica nos ayuda a predecir una probabilidad.***"
   ]
  },
  {
   "cell_type": "markdown",
   "id": "36103544",
   "metadata": {},
   "source": [
    "### Enunciado del ejercicio\n",
    "Se propone la construccion de un sistema de aprendizaje automatico capaz de predecir si un correo determinado corresponde a un correo ***SPAM*** o no para esto se utilizara el siguiente DataSet: [DataSet](https://www.kaggle.com/datasets/imdeepmind/preprocessed-trec-2007-public-corpus-dataset)\n",
    "\n",
    "The corpus trec07p contains 75,419 messages:\n",
    "- 25,220 Ham\n",
    "- 50,199 SPAM\n",
    "\n",
    "These messages contitute all the messages delivered to a particular server between these dates \n",
    "\n",
    "- Sun, 8 Apr 2007 13:07:21 -0400\n",
    "- Fri, 6 Jul 2007 07:04:53 -0400\n"
   ]
  },
  {
   "cell_type": "markdown",
   "id": "45b32f2a",
   "metadata": {},
   "source": [
    "### 1.- Funciones complementarias\n",
    "\n",
    "En este caso practico relacionado con la deteccion de e-mails de SPAM, el DataSet del que se dispone esta formado por e-mails, con sus correspondientes cabeceras y campos adicionales. Por lo tanto requieren un preprocesamiento previa a que sean ingeridos por el algoritmo de ***Machine Learning***. "
   ]
  },
  {
   "cell_type": "code",
   "execution_count": 38,
   "id": "2cdcdb78",
   "metadata": {},
   "outputs": [],
   "source": [
    "#  Esta clase facilita el preprocesamiento de correos electronicos que poseen codigo HTML \n",
    "\n",
    "from html.parser import HTMLParser\n",
    "\n",
    "class MLStripper(HTMLParser):\n",
    "    def __init__(self):\n",
    "        self.reset()\n",
    "        self.strict = False\n",
    "        self.convert_charrefs = True\n",
    "        self.fed = []\n",
    "\n",
    "    def handle_data(self,d):\n",
    "        self.fed.append(d)\n",
    "    \n",
    "    def get_data(self):\n",
    "        return ''.join(self.fed)\n",
    "\n"
   ]
  },
  {
   "cell_type": "code",
   "execution_count": 39,
   "id": "c7c320a1",
   "metadata": {},
   "outputs": [],
   "source": [
    "# Esta funcion se encarga de eliminar los tags HTML  que se encuentran en el texto del e-mail \n",
    "\n",
    "def strip_tags(html):\n",
    "    s = MLStripper()\n",
    "    s.feed(html)\n",
    "    return s.get_data()"
   ]
  },
  {
   "cell_type": "code",
   "execution_count": 40,
   "id": "042c3820",
   "metadata": {},
   "outputs": [
    {
     "data": {
      "text/plain": [
       "'Phrack World News'"
      ]
     },
     "execution_count": 40,
     "metadata": {},
     "output_type": "execute_result"
    }
   ],
   "source": [
    "# Ejemplo de eliminacion de los tags HTML de un texto\n",
    "\n",
    "t='<tr><td aling=\"left\"><a href=\"../../issues/51/16.html#article\">Phrack World News</a></td></tr>'\n",
    "strip_tags(t)"
   ]
  },
  {
   "cell_type": "code",
   "execution_count": 41,
   "id": "fae7aee8",
   "metadata": {},
   "outputs": [],
   "source": [
    "# Tareas que corra este codigo\n",
    "# Ya traer el DataSet"
   ]
  },
  {
   "cell_type": "markdown",
   "id": "218ff9ab",
   "metadata": {},
   "source": [
    "Ademas de eliminar los posibles tags HTML que se encuentran en el correo electronico, deben de realizarse otras acciones de prepocesamiento para evitar que los mensjes contengan ruido innecesario. Entre ellas se encuentra la eliminacion de los signos de puntuacion, eliminacion de posibles campos de correo electronico que no son reelevantes o eliminacion de afijos de una palabra manteniendo unicamente la raiz de la misma (***Stemming***). La clase que se muestra a continuacion realiza estas transformaciones."
   ]
  },
  {
   "cell_type": "code",
   "execution_count": 42,
   "id": "56f445a8",
   "metadata": {},
   "outputs": [],
   "source": [
    "import email\n",
    "import string\n",
    "import nltk"
   ]
  },
  {
   "cell_type": "code",
   "execution_count": 43,
   "id": "b34645fe",
   "metadata": {},
   "outputs": [],
   "source": [
    "class Parser:\n",
    "    def __init__(self):\n",
    "        self.stemmer = nltk().PorterStemmer()\n",
    "        self.stopwords = set(nltk.corpus.stopwords.words('english'))\n",
    "        self.punctuation = list(string.punctuation)\n",
    "\n",
    "    def parse(self, email_path):\n",
    "        \"\"\"Parse an email\"\"\"\n",
    "        with open(email_path,errors='ignore') as e:\n",
    "            msg = email.message_from_file(e)\n",
    "        return None if not msg else self.get_email_content(msg)\n",
    "    \n",
    "    def get_email_content(self,msg):\n",
    "        \"\"\"Extract the email content\"\"\"\n",
    "        subject = self.tokenizen(msg['Subject']) if msg['Subject'] else[]\n",
    "        body =self.get_email_body(msg.get_payload(),\n",
    "                                                                msg.get_content_type())\n",
    "        content_type = msg.get_content_type()\n",
    "        #Returning the content of the email\n",
    "        return {\n",
    "            \"subject\":subject,\n",
    "            \"body\":body,\n",
    "            \"content_type\":content_type\n",
    "            }\n",
    "    \n",
    "    def get_email_body(self,payload,content_type):\n",
    "        \"\"\"Extract the body of the email \"\"\"\n",
    "        body=[]\n",
    "        if type(payload) is str and content_type == 'text/plain':\n",
    "            return self.tokenize(payload)\n",
    "        elif type(payload) is str and content_type == 'text/html':\n",
    "            return self.tokenize(strip_tags(payload))\n",
    "        elif type(payload) is list:\n",
    "            for p in payload:\n",
    "                body += self.get_email_body(p.get_payload(),\n",
    "                                                                            p.get_content_type())\n",
    "        return body \n",
    "    \n",
    "    def tokenize(self,text):\n",
    "        \"\"\"Transform a text string in tokens. perform two main actions clean the punctuation symbols and do stemming of the text.\"\"\"\n",
    "        for c in self.punctuation:\n",
    "            text=text.replace(c,\"\")\n",
    "        text = text.replace(\"\\t\",\" \")\n",
    "        text = text.replace(\"\\n\",\" \")\n",
    "        tokens = list(filter(None,text.split(\" \")))\n",
    "        #Stemming of the tokens\n",
    "        return [self.stemmer.stem(w) for w in tokens if w not in self.stopwords]\n",
    "\n"
   ]
  },
  {
   "cell_type": "markdown",
   "id": "10aab3f3",
   "metadata": {},
   "source": [
    "Lectura de un e-mail en formato Raw"
   ]
  },
  {
   "cell_type": "code",
   "execution_count": 44,
   "id": "3ad37cc7",
   "metadata": {},
   "outputs": [
    {
     "name": "stdout",
     "output_type": "stream",
     "text": [
      "From RickyAmes@aol.com  Sun Apr  8 13:07:32 2007\n",
      "Return-Path: <RickyAmes@aol.com>\n",
      "Received: from 129.97.78.23 ([211.202.101.74])\n",
      "\tby speedy.uwaterloo.ca (8.12.8/8.12.5) with SMTP id l38H7G0I003017;\n",
      "\tSun, 8 Apr 2007 13:07:21 -0400\n",
      "Received: from 0.144.152.6 by 211.202.101.74; Sun, 08 Apr 2007 19:04:48 +0100\n",
      "Message-ID: <WYADCKPDFWWTWTXNFVUE@yahoo.com>\n",
      "From: \"Tomas Jacobs\" <RickyAmes@aol.com>\n",
      "Reply-To: \"Tomas Jacobs\" <RickyAmes@aol.com>\n",
      "To: the00@speedy.uwaterloo.ca\n",
      "Subject: Generic Cialis, branded quality@ \n",
      "Date: Sun, 08 Apr 2007 21:00:48 +0300\n",
      "X-Mailer: Microsoft Outlook Express 6.00.2600.0000\n",
      "MIME-Version: 1.0\n",
      "Content-Type: multipart/alternative;\n",
      "\tboundary=\"--8896484051606557286\"\n",
      "X-Priority: 3\n",
      "X-MSMail-Priority: Normal\n",
      "Status: RO\n",
      "Content-Length: 988\n",
      "Lines: 24\n",
      "\n",
      "----8896484051606557286\n",
      "Content-Type: text/html;\n",
      "Content-Transfer-Encoding: 7Bit\n",
      "\n",
      "<html>\n",
      "<body bgcolor=\"#ffffff\">\n",
      "<div style=\"border-color: #00FFFF; border-right-width: 0px; border-bottom-width: 0px; margin-bottom: 0px;\" align=\"center\">\n",
      "<table style=\"border: 1px; border-style: solid; border-color:#000000;\" cellpadding=\"5\" cellspacing=\"0\" bgcolor=\"#CCFFAA\">\n",
      "<tr>\n",
      "<td style=\"border: 0px; border-bottom: 1px; border-style: solid; border-color:#000000;\">\n",
      "<center>\n",
      "Do you feel the pressure to perform and not rising to the occasion??<br>\n",
      "</center>\n",
      "</td></tr><tr>\n",
      "<td bgcolor=#FFFF33 style=\"border: 0px; border-bottom: 1px; border-style: solid; border-color:#000000;\">\n",
      "<center>\n",
      "\n",
      "<b><a href='http://excoriationtuh.com/?lzmfnrdkleks'>Try <span>V</span><span>ia<span></span>gr<span>a</span>.....</a></b></center>\n",
      "</td></tr><td><center>your anxiety will be a thing of the past and you will<br>\n",
      "be back to your old self.\n",
      "</center></td></tr></table></div></body></html>\n",
      "\n",
      "\n",
      "----8896484051606557286--\n",
      "\n",
      "\n"
     ]
    }
   ],
   "source": [
    "inmail = open('./datasets/trec07p/data/inmail.1').read()\n",
    "print(inmail)"
   ]
  }
 ],
 "metadata": {
  "kernelspec": {
   "display_name": ".venv",
   "language": "python",
   "name": "python3"
  },
  "language_info": {
   "codemirror_mode": {
    "name": "ipython",
    "version": 3
   },
   "file_extension": ".py",
   "mimetype": "text/x-python",
   "name": "python",
   "nbconvert_exporter": "python",
   "pygments_lexer": "ipython3",
   "version": "3.13.7"
  }
 },
 "nbformat": 4,
 "nbformat_minor": 5
}
