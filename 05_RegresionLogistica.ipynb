{
 "cells": [
  {
   "cell_type": "markdown",
   "id": "fb18a7fc",
   "metadata": {},
   "source": [
    "# Regresion Logistica: Deteccion de Spam\n",
    "\n",
    "En este ejercicio se muestran los fundamentos de la regresion logistica planteando uno de los primeros problemas que fueron solucionados con el uso de tecnicas de ***Machine Learning***: Deteccion de SPAM."
   ]
  },
  {
   "cell_type": "markdown",
   "id": "b554ac8e",
   "metadata": {},
   "source": [
    "***La regresion lineal ayuda a predecir eventos a futuro, mientras que la logistica nos ayuda a predecir una probabilidad.***"
   ]
  },
  {
   "cell_type": "markdown",
   "id": "36103544",
   "metadata": {},
   "source": [
    "### Enunciado del ejercicio\n",
    "Se propone la construccion de un sistema de aprendizaje automatico capaz de predecir si un correo determinado corresponde a un correo ***SPAM*** o no para esto se utilizara el siguiente DataSet: [DataSet](https://www.kaggle.com/datasets/imdeepmind/preprocessed-trec-2007-public-corpus-dataset)\n",
    "\n",
    "The corpus trec07p contains 75,419 messages:\n",
    "- 25,220 Ham\n",
    "- 50,199 SPAM\n",
    "\n",
    "These messages contitute all the messages delivered to a particular server between these dates \n",
    "\n",
    "- Sun, 8 Apr 2007 13:07:21 -0400\n",
    "- Fri, 6 Jul 2007 07:04:53 -0400\n"
   ]
  },
  {
   "cell_type": "markdown",
   "id": "45b32f2a",
   "metadata": {},
   "source": [
    "### 1.- Funciones complementarias\n",
    "\n",
    "En este caso practico relacionado con la deteccion de e-mails de SPAM, el DataSet del que se dispone esta formado por e-mails, con sus correspondientes cabeceras y campos adicionales. Por lo tanto requieren un preprocesamiento previa a que sean ingeridos por el algoritmo de ***Machine Learning***. "
   ]
  },
  {
   "cell_type": "code",
   "execution_count": 1,
   "id": "2cdcdb78",
   "metadata": {},
   "outputs": [],
   "source": [
    "#  Esta clase facilita el preprocesamiento de correos electronicos que poseen codigo HTML \n",
    "\n",
    "from html.parser import HTMLParser\n",
    "\n",
    "class MLStripper(HTMLParser):\n",
    "    def __init__(self):\n",
    "        self.reset()\n",
    "        self.strict = False\n",
    "        self.convert_charrefs = True\n",
    "        self.fed = []\n",
    "\n",
    "    def handle_data(self,d):\n",
    "        self.fed.append(d)\n",
    "    \n",
    "    def get_data(self):\n",
    "        return ''.join(self.fed)\n",
    "\n"
   ]
  },
  {
   "cell_type": "code",
   "execution_count": 2,
   "id": "c7c320a1",
   "metadata": {},
   "outputs": [],
   "source": [
    "# Esta funcion se encarga de eliminar los tags HTML  que se encuentran en el texto del e-mail \n",
    "\n",
    "def strip_tags(html):\n",
    "    s = MLStripper()\n",
    "    s.feed(html)\n",
    "    return s.get_data()"
   ]
  },
  {
   "cell_type": "code",
   "execution_count": 3,
   "id": "042c3820",
   "metadata": {},
   "outputs": [
    {
     "data": {
      "text/plain": [
       "'Phrack World News'"
      ]
     },
     "execution_count": 3,
     "metadata": {},
     "output_type": "execute_result"
    }
   ],
   "source": [
    "# Ejemplo de eliminacion de los tags HTML de un texto\n",
    "\n",
    "t='<tr><td aling=\"left\"><a href=\"../../issues/51/16.html#article\">Phrack World News</a></td></tr>'\n",
    "strip_tags(t)"
   ]
  },
  {
   "cell_type": "code",
   "execution_count": 4,
   "id": "fae7aee8",
   "metadata": {},
   "outputs": [],
   "source": [
    "# Tareas que corra este codigo\n",
    "# Ya traer el DataSet"
   ]
  },
  {
   "cell_type": "code",
   "execution_count": null,
   "id": "29005514",
   "metadata": {},
   "outputs": [],
   "source": []
  }
 ],
 "metadata": {
  "kernelspec": {
   "display_name": ".venv",
   "language": "python",
   "name": "python3"
  },
  "language_info": {
   "codemirror_mode": {
    "name": "ipython",
    "version": 3
   },
   "file_extension": ".py",
   "mimetype": "text/x-python",
   "name": "python",
   "nbconvert_exporter": "python",
   "pygments_lexer": "ipython3",
   "version": "3.13.7"
  }
 },
 "nbformat": 4,
 "nbformat_minor": 5
}
