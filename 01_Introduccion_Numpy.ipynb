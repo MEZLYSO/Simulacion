{
 "cells": [
  {
   "cell_type": "markdown",
   "id": "61695775",
   "metadata": {},
   "source": [
    "# Introduccion a numpy"
   ]
  },
  {
   "cell_type": "markdown",
   "id": "2bc4d785",
   "metadata": {},
   "source": [
    "[Numpy]() es una biblioteca fundamental para la computacion cientifica en Python.\n",
    "\n",
    "* Proporciona arrays N-Dimensionales.\n",
    "* Implementa funciones matematicas sofisticadas.\n",
    "* Proporciona herramientas para integrar C/C++ y Fortran.\n",
    "* Proporciona mecanismos para facilitar la realizacion de tareas relacionadas con algebra lineal o \n",
    "  numeros aleatorios."
   ]
  },
  {
   "cell_type": "markdown",
   "id": "3c4160ef",
   "metadata": {},
   "source": [
    "## Imports"
   ]
  },
  {
   "cell_type": "code",
   "execution_count": 1,
   "id": "351a3a7d",
   "metadata": {},
   "outputs": [],
   "source": [
    "import numpy as np "
   ]
  },
  {
   "cell_type": "markdown",
   "id": "6343d6c7",
   "metadata": {},
   "source": [
    "### Arrays \n",
    "\n",
    "Un **array** es una estructura de datos que consiste en una coleccion de elementos (valore o variables) cada uno identificado\n",
    "por un almenos un indice o clave. Un array se almacena de modo que la posicion de cada elemento se pueda calcular a partir de \n",
    "su tupla de indice mediante su formula matematica el tipo mas simple del array es un array lineal, tambiendo llamado array \n",
    "unidimensional"
   ]
  },
  {
   "cell_type": "markdown",
   "id": "a8f1c191",
   "metadata": {},
   "source": [
    "En Numpy:\n",
    "\n",
    "* Cada dimension se denomina **axis**.\n",
    "* El numero de dimensiones se denomina **rank**.\n",
    "* La lista de dimensiones con su correspondiente logitud se denomina **shape**.\n",
    "* El numero total de elementos (multiplicacion de la longitud de las dimensiones) se denomina **size**. "
   ]
  },
  {
   "cell_type": "code",
   "execution_count": 2,
   "id": "f02060f2",
   "metadata": {},
   "outputs": [
    {
     "data": {
      "text/plain": [
       "array([[0., 0., 0., 0.],\n",
       "       [0., 0., 0., 0.]])"
      ]
     },
     "execution_count": 2,
     "metadata": {},
     "output_type": "execute_result"
    }
   ],
   "source": [
    "# Array cuyos valores son todos 0\n",
    "\n",
    "# Definicion de dimensiones\n",
    "# ------>(filas,columnas)\n",
    "a=np.zeros((2,4))\n",
    "\n",
    "a"
   ]
  },
  {
   "cell_type": "markdown",
   "id": "0c391534",
   "metadata": {},
   "source": [
    "**a** es un array : \n",
    "\n",
    "* Con dos **axis** , la primera de logitud 2 y el segundo de logitud 4.\n",
    "* Con un **rank** igual a 2.\n",
    "* Con un **shape** igual (2,4). \n",
    "* Con un **size** igual a 8."
   ]
  },
  {
   "cell_type": "code",
   "execution_count": 3,
   "id": "bc3fc95a",
   "metadata": {},
   "outputs": [
    {
     "data": {
      "text/plain": [
       "(2, 4)"
      ]
     },
     "execution_count": 3,
     "metadata": {},
     "output_type": "execute_result"
    }
   ],
   "source": [
    "# Como obtener el shape de un array\n",
    "a.shape"
   ]
  },
  {
   "cell_type": "code",
   "execution_count": 4,
   "id": "50384ca5",
   "metadata": {},
   "outputs": [
    {
     "data": {
      "text/plain": [
       "2"
      ]
     },
     "execution_count": 4,
     "metadata": {},
     "output_type": "execute_result"
    }
   ],
   "source": [
    "# Obtener filas\n",
    "a.ndim"
   ]
  },
  {
   "cell_type": "code",
   "execution_count": 5,
   "id": "9f371edd",
   "metadata": {},
   "outputs": [
    {
     "data": {
      "text/plain": [
       "8"
      ]
     },
     "execution_count": 5,
     "metadata": {},
     "output_type": "execute_result"
    }
   ],
   "source": [
    "# Obtener el tamano del array\n",
    "a.size"
   ]
  },
  {
   "cell_type": "markdown",
   "id": "f2525993",
   "metadata": {},
   "source": [
    "### Creacion de arrays"
   ]
  },
  {
   "cell_type": "code",
   "execution_count": 6,
   "id": "3b4a22dc",
   "metadata": {},
   "outputs": [
    {
     "data": {
      "text/plain": [
       "array([[[0., 0., 0., 0.],\n",
       "        [0., 0., 0., 0.],\n",
       "        [0., 0., 0., 0.]],\n",
       "\n",
       "       [[0., 0., 0., 0.],\n",
       "        [0., 0., 0., 0.],\n",
       "        [0., 0., 0., 0.]]])"
      ]
     },
     "execution_count": 6,
     "metadata": {},
     "output_type": "execute_result"
    }
   ],
   "source": [
    "# Array cuyos valores son todos en 0\n",
    "np.zeros((2,3,4)) # dimension, filas, columnas"
   ]
  },
  {
   "cell_type": "code",
   "execution_count": 7,
   "id": "5fb0d91a",
   "metadata": {},
   "outputs": [
    {
     "data": {
      "text/plain": [
       "array([[[1., 1., 1., 1.],\n",
       "        [1., 1., 1., 1.],\n",
       "        [1., 1., 1., 1.],\n",
       "        [1., 1., 1., 1.]],\n",
       "\n",
       "       [[1., 1., 1., 1.],\n",
       "        [1., 1., 1., 1.],\n",
       "        [1., 1., 1., 1.],\n",
       "        [1., 1., 1., 1.]]])"
      ]
     },
     "execution_count": 7,
     "metadata": {},
     "output_type": "execute_result"
    }
   ],
   "source": [
    "# Array cuyos valores con todos 1 \n",
    "np.ones((2,4,4))"
   ]
  },
  {
   "cell_type": "code",
   "execution_count": 8,
   "id": "933178fe",
   "metadata": {},
   "outputs": [
    {
     "data": {
      "text/plain": [
       "array([[[8, 8, 8, 8],\n",
       "        [8, 8, 8, 8],\n",
       "        [8, 8, 8, 8]],\n",
       "\n",
       "       [[8, 8, 8, 8],\n",
       "        [8, 8, 8, 8],\n",
       "        [8, 8, 8, 8]]])"
      ]
     },
     "execution_count": 8,
     "metadata": {},
     "output_type": "execute_result"
    }
   ],
   "source": [
    "# Array cuyos valores son todos el valor indicado como segundo parametro de la funcion\n",
    "\n",
    "np.full((2,3,4),8)"
   ]
  },
  {
   "cell_type": "code",
   "execution_count": 9,
   "id": "2ef8429d",
   "metadata": {},
   "outputs": [
    {
     "data": {
      "text/plain": [
       "array([[[4.65147020e-310, 0.00000000e+000, 0.00000000e+000,\n",
       "         0.00000000e+000, 6.55716030e-312, 1.31607456e-292,\n",
       "         1.97626258e-322, 3.17004951e-310, 6.12454250e-302],\n",
       "        [4.99998019e-315, 0.00000000e+000, 6.95335581e-309,\n",
       "         3.44166865e-310, 3.93720589e-302, 0.00000000e+000,\n",
       "         1.00056855e-316, 5.33445445e-315, 3.60463425e-310],\n",
       "        [1.99224836e+021, 0.00000000e+000, 8.89861635e-320,\n",
       "         4.31613219e-316, 3.98490040e-310, 8.61952728e-288,\n",
       "         3.91581293e-293, 1.12361032e-316, 7.66184714e-303]],\n",
       "\n",
       "       [[1.57842177e+050, 0.00000000e+000, 9.65750118e-320,\n",
       "         1.25216013e-312, 1.29532007e-317, 4.45014804e-308,\n",
       "         3.61029760e-316, 1.53844695e-310, 0.00000000e+000],\n",
       "        [0.00000000e+000, 2.41072090e+045, 0.00000000e+000,\n",
       "         6.49200848e-315, 0.00000000e+000, 6.95335581e-309,\n",
       "         1.05811442e-302, 1.97626258e-322, 5.64902475e-283],\n",
       "        [4.17604955e-308, 5.08380774e-298, 5.56268465e-308,\n",
       "         6.66070198e-315, 4.74881493e-249, 3.17005650e-310,\n",
       "         1.59002214e-268, 6.44826985e-269, 4.31283974e-308]]])"
      ]
     },
     "execution_count": 9,
     "metadata": {},
     "output_type": "execute_result"
    }
   ],
   "source": [
    "# El resultado de np.empty no es predecible\n",
    "# Inicializa los valores del array con lo que hay en memoria en ese momento\n",
    "\n",
    "np.empty((2,3,9))"
   ]
  },
  {
   "cell_type": "code",
   "execution_count": 10,
   "id": "5879cedb",
   "metadata": {},
   "outputs": [
    {
     "data": {
      "text/plain": [
       "array([[1, 2, 3],\n",
       "       [4, 5, 6]])"
      ]
     },
     "execution_count": 10,
     "metadata": {},
     "output_type": "execute_result"
    }
   ],
   "source": [
    "# Inicializar un array con un array de Python \n",
    "b = np.array([[1,2,3],[4,5,6]])\n",
    "b"
   ]
  },
  {
   "cell_type": "code",
   "execution_count": 11,
   "id": "fa2d3c1b",
   "metadata": {},
   "outputs": [
    {
     "data": {
      "text/plain": [
       "(2, 3)"
      ]
     },
     "execution_count": 11,
     "metadata": {},
     "output_type": "execute_result"
    }
   ],
   "source": [
    "# Que hizo\n",
    "b.shape"
   ]
  },
  {
   "cell_type": "code",
   "execution_count": 12,
   "id": "722cf8b9",
   "metadata": {},
   "outputs": [
    {
     "name": "stdout",
     "output_type": "stream",
     "text": [
      "[0.         0.66666667 1.33333333 2.         2.66666667 3.33333333\n",
      " 4.         4.66666667 5.33333333 6.        ]\n"
     ]
    }
   ],
   "source": [
    "# Vamos a crear un array utilizando una funcion basada en rangos\n",
    "# (min,max,numero de elementos)\n",
    "print(np.linspace(0,6,10))"
   ]
  },
  {
   "cell_type": "code",
   "execution_count": 13,
   "id": "aea51c0a",
   "metadata": {},
   "outputs": [
    {
     "data": {
      "text/plain": [
       "array([[[0.01523444, 0.78136724, 0.9255623 , 0.40813377],\n",
       "        [0.69015245, 0.03587168, 0.28025301, 0.21214074],\n",
       "        [0.13425165, 0.73557047, 0.07007635, 0.71511883]],\n",
       "\n",
       "       [[0.63982494, 0.49884597, 0.36615482, 0.78256212],\n",
       "        [0.54022726, 0.09245953, 0.77289553, 0.32815314],\n",
       "        [0.50089746, 0.14662722, 0.60423054, 0.37105819]]])"
      ]
     },
     "execution_count": 13,
     "metadata": {},
     "output_type": "execute_result"
    }
   ],
   "source": [
    "# Inicializar con valores aleatorios\n",
    "np.random.rand(2,3,4)"
   ]
  },
  {
   "cell_type": "code",
   "execution_count": 14,
   "id": "8f33a016",
   "metadata": {},
   "outputs": [
    {
     "data": {
      "text/plain": [
       "array([[-0.70864436,  0.65194308, -0.89363129,  1.50594356],\n",
       "       [-0.32183574, -0.02983098, -0.56241983,  2.38703418]])"
      ]
     },
     "execution_count": 14,
     "metadata": {},
     "output_type": "execute_result"
    }
   ],
   "source": [
    "# Inicializar un array con valores aleatorios conforme a una distribucion normal\n",
    "np.random.randn(2,4)"
   ]
  },
  {
   "cell_type": "code",
   "execution_count": 15,
   "id": "041b77da",
   "metadata": {},
   "outputs": [
    {
     "data": {
      "image/png": "[encoded data removed]",
      "text/plain": [
       "<Figure size 640x480 with 1 Axes>"
      ]
     },
     "metadata": {},
     "output_type": "display_data"
    }
   ],
   "source": [
    "# Nos permite visualizar el grafico\n",
    "%matplotlib inline\n",
    "import matplotlib.pyplot as plt \n",
    "\n",
    "c = np.random.randn(100000)\n",
    "# (bind=n) Define el grosor de las barras\n",
    "plt.hist(c,bins=5000)\n",
    "plt.show()"
   ]
  },
  {
   "cell_type": "code",
   "execution_count": 16,
   "id": "eea8c2db",
   "metadata": {},
   "outputs": [
    {
     "data": {
      "text/plain": [
       "array([[ 0.,  2.,  4.,  6.,  8.],\n",
       "       [ 1.,  3.,  5.,  7.,  9.],\n",
       "       [ 2.,  4.,  6.,  8., 10.]])"
      ]
     },
     "execution_count": 16,
     "metadata": {},
     "output_type": "execute_result"
    }
   ],
   "source": [
    "# Inicializar un array utilizando una funcion personalizada\n",
    "\n",
    "def func(x,y):\n",
    "    return x+2*y\n",
    "\n",
    "np.fromfunction(func,(3,5))\n"
   ]
  },
  {
   "cell_type": "markdown",
   "id": "fa573d97",
   "metadata": {},
   "source": [
    "### Acceso a los elementos de un Array\n",
    "\n",
    "#### Array Unidimensional"
   ]
  },
  {
   "cell_type": "code",
   "execution_count": 17,
   "id": "0dc7f36d",
   "metadata": {},
   "outputs": [
    {
     "name": "stdout",
     "output_type": "stream",
     "text": [
      "Shape: (6,)\n",
      "Array uni:  [1 2 3 4 5 6]\n"
     ]
    }
   ],
   "source": [
    "# Crear un array unidimensional\n",
    "\n",
    "array_uni = np.array([1,2,3,4,5,6])\n",
    "print(\"Shape:\",array_uni.shape)\n",
    "print(\"Array uni: \",array_uni)"
   ]
  },
  {
   "cell_type": "code",
   "execution_count": 18,
   "id": "0d45f087",
   "metadata": {},
   "outputs": [
    {
     "name": "stdout",
     "output_type": "stream",
     "text": [
      "4\n"
     ]
    }
   ],
   "source": [
    "# Acceder al quinto elemento del array\n",
    "\n",
    "print(array_uni[3])"
   ]
  },
  {
   "cell_type": "code",
   "execution_count": 19,
   "id": "dab5c808",
   "metadata": {},
   "outputs": [
    {
     "name": "stdout",
     "output_type": "stream",
     "text": [
      "[3 4]\n"
     ]
    }
   ],
   "source": [
    "# Acceder al tercer y cuarto elemento del array\n",
    "\n",
    "print(array_uni[2:4])"
   ]
  },
  {
   "cell_type": "code",
   "execution_count": 20,
   "id": "46348268",
   "metadata": {},
   "outputs": [
    {
     "data": {
      "text/plain": [
       "array([1, 4, 6])"
      ]
     },
     "execution_count": 20,
     "metadata": {},
     "output_type": "execute_result"
    }
   ],
   "source": [
    "# Acceder al elemento 0,3 y 5 del Array\n",
    "\n",
    "array_uni[[0,3,5]]"
   ]
  },
  {
   "cell_type": "markdown",
   "id": "21545656",
   "metadata": {},
   "source": [
    "#### Array Multidimensional"
   ]
  },
  {
   "cell_type": "code",
   "execution_count": 21,
   "id": "8c71b85d",
   "metadata": {},
   "outputs": [
    {
     "name": "stdout",
     "output_type": "stream",
     "text": [
      "Shape:  (2, 4)\n",
      "Array_multi: \n",
      " [[1 2 3 4]\n",
      " [5 6 7 8]]\n"
     ]
    }
   ],
   "source": [
    "# Crear una Array multidimensional\n",
    "array_multi = np.array([[1,2,3,4],[5,6,7,8]])\n",
    "\n",
    "print(\"Shape: \",array_multi.shape)\n",
    "print(\"Array_multi: \\n\",array_multi)"
   ]
  },
  {
   "cell_type": "code",
   "execution_count": 22,
   "id": "fef329c0",
   "metadata": {},
   "outputs": [
    {
     "data": {
      "text/plain": [
       "np.int64(4)"
      ]
     },
     "execution_count": 22,
     "metadata": {},
     "output_type": "execute_result"
    }
   ],
   "source": [
    "# Acceder al cuarto elemento del Array\n",
    "\n",
    "array_multi[0,3]\n"
   ]
  },
  {
   "cell_type": "code",
   "execution_count": 23,
   "id": "bb2e0e9d",
   "metadata": {},
   "outputs": [
    {
     "data": {
      "text/plain": [
       "array([5, 6, 7, 8])"
      ]
     },
     "execution_count": 23,
     "metadata": {},
     "output_type": "execute_result"
    }
   ],
   "source": [
    "# Acceder a la segunda fila del array\n",
    "\n",
    "array_multi[1,:]"
   ]
  },
  {
   "cell_type": "code",
   "execution_count": 24,
   "id": "65794806",
   "metadata": {},
   "outputs": [
    {
     "data": {
      "text/plain": [
       "array([3, 7])"
      ]
     },
     "execution_count": 24,
     "metadata": {},
     "output_type": "execute_result"
    }
   ],
   "source": [
    "# Acceder al tercer elemento de las 2 primeras filas del Array\n",
    "\n",
    "array_multi[0: 2,2]\n"
   ]
  },
  {
   "cell_type": "markdown",
   "id": "1815b29e",
   "metadata": {},
   "source": [
    "#### Modificar un Array"
   ]
  },
  {
   "cell_type": "code",
   "execution_count": 25,
   "id": "68f9936e",
   "metadata": {},
   "outputs": [
    {
     "name": "stdout",
     "output_type": "stream",
     "text": [
      "Shape:  (28,)\n",
      "Array 1: \n",
      " [ 0  1  2  3  4  5  6  7  8  9 10 11 12 13 14 15 16 17 18 19 20 21 22 23\n",
      " 24 25 26 27]\n"
     ]
    }
   ],
   "source": [
    "# Crear un Array Unidimensial e inicializarlo con el rango de elementos del 0 - 27\n",
    "\n",
    "array_1=np.arange(28)\n",
    "print(\"Shape: \",array_1.shape)\n",
    "print(\"Array 1: \\n\",array_1)"
   ]
  },
  {
   "cell_type": "code",
   "execution_count": 26,
   "id": "8d8682a8",
   "metadata": {},
   "outputs": [
    {
     "name": "stdout",
     "output_type": "stream",
     "text": [
      "Shape:  (7, 4)\n",
      "Array 1: \n",
      " [[ 0  1  2  3]\n",
      " [ 4  5  6  7]\n",
      " [ 8  9 10 11]\n",
      " [12 13 14 15]\n",
      " [16 17 18 19]\n",
      " [20 21 22 23]\n",
      " [24 25 26 27]]\n"
     ]
    }
   ],
   "source": [
    "# Cambiar las dimensiones del Array y sus longitudes \n",
    "\n",
    "array_1.shape = (7,4)\n",
    "print(\"Shape: \",array_1.shape)\n",
    "print(\"Array 1: \\n\",array_1)"
   ]
  },
  {
   "cell_type": "code",
   "execution_count": 27,
   "id": "7eca08d3",
   "metadata": {},
   "outputs": [
    {
     "name": "stdout",
     "output_type": "stream",
     "text": [
      "Shape:  (4, 7)\n",
      "Array 2: \n",
      " [[ 0  1  2  3  4  5  6]\n",
      " [ 7  8  9 10 11 12 13]\n",
      " [14 15 16 17 18 19 20]\n",
      " [21 22 23 24 25 26 27]]\n",
      "Array 1: \n",
      " [[ 0  1  2  3]\n",
      " [ 4  5  6  7]\n",
      " [ 8  9 10 11]\n",
      " [12 13 14 15]\n",
      " [16 17 18 19]\n",
      " [20 21 22 23]\n",
      " [24 25 26 27]]\n"
     ]
    }
   ],
   "source": [
    "# El ejemplo anterior devuelve un nuevo Array que apunta a los mismo datos \n",
    "# Nota: Las modificaciones de un array, modifican el otro array \n",
    "\n",
    "array_2 = array_1.reshape(4,7)\n",
    "print(\"Shape: \",array_2.shape)\n",
    "print(\"Array 2: \\n\",array_2)\n",
    "print(\"Array 1: \\n\",array_1)\n"
   ]
  },
  {
   "cell_type": "code",
   "execution_count": 28,
   "id": "a16cedb6",
   "metadata": {},
   "outputs": [
    {
     "name": "stdout",
     "output_type": "stream",
     "text": [
      "Array 1: \n",
      " [[ 0  1  2 20]\n",
      " [ 4  5  6  7]\n",
      " [ 8  9 10 11]\n",
      " [12 13 14 15]\n",
      " [16 17 18 19]\n",
      " [20 21 22 23]\n",
      " [24 25 26 27]]\n",
      "Array 2: \n",
      " [[ 0  1  2 20  4  5  6]\n",
      " [ 7  8  9 10 11 12 13]\n",
      " [14 15 16 17 18 19 20]\n",
      " [21 22 23 24 25 26 27]]\n"
     ]
    }
   ],
   "source": [
    "# Modificar el array devuelvo\n",
    "\n",
    "array_2[0,3] = 20\n",
    "\n",
    "print(\"Array 1: \\n\",array_1)\n",
    "print(\"Array 2: \\n\",array_2)\n",
    "\n",
    "# Los dos arrays apuntan a la misma localidad de memoria\n"
   ]
  },
  {
   "cell_type": "code",
   "execution_count": 30,
   "id": "a6ff1952",
   "metadata": {},
   "outputs": [
    {
     "name": "stdout",
     "output_type": "stream",
     "text": [
      "Array 1: [ 0  1  2 20  4  5  6  7  8  9 10 11 12 13 14 15 16 17 18 19 20 21 22 23\n",
      " 24 25 26 27]\n"
     ]
    }
   ],
   "source": [
    "# Regresar el Array devolviendo un nuevo Array de una sola dimension\n",
    "# Nota: El nuevo array apunta a los mismos datos \n",
    "print(\"Array 1:\",array_1.ravel())"
   ]
  },
  {
   "cell_type": "markdown",
   "id": "4eb05335",
   "metadata": {},
   "source": [
    "#### Operaciones Aritmeticas con Arrays "
   ]
  }
 ],
 "metadata": {
  "kernelspec": {
   "display_name": ".venv",
   "language": "python",
   "name": "python3"
  },
  "language_info": {
   "codemirror_mode": {
    "name": "ipython",
    "version": 3
   },
   "file_extension": ".py",
   "mimetype": "text/x-python",
   "name": "python",
   "nbconvert_exporter": "python",
   "pygments_lexer": "ipython3",
   "version": "3.13.7"
  }
 },
 "nbformat": 4,
 "nbformat_minor": 5
}
