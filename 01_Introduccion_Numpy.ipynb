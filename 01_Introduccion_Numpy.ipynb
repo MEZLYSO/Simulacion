{
 "cells": [
  {
   "cell_type": "markdown",
   "id": "61695775",
   "metadata": {},
   "source": [
    "# Introduccion a numpy"
   ]
  },
  {
   "cell_type": "markdown",
   "id": "2bc4d785",
   "metadata": {},
   "source": [
    "[Numpy]() es una biblioteca fundamental para la computacion cientifica en Python.\n",
    "\n",
    "* Proporciona arrays N-Dimensionales.\n",
    "* Implementa funciones matematicas sofisticadas.\n",
    "* Proporciona herramientas para integrar C/C++ y Fortran.\n",
    "* Proporciona mecanismos para facilitar la realizacion de tareas relacionadas con algebra lineal o \n",
    "  numeros aleatorios."
   ]
  },
  {
   "cell_type": "markdown",
   "id": "3c4160ef",
   "metadata": {},
   "source": [
    "## Imports"
   ]
  },
  {
   "cell_type": "code",
   "execution_count": 3,
   "id": "351a3a7d",
   "metadata": {},
   "outputs": [],
   "source": [
    "import numpy as np "
   ]
  },
  {
   "cell_type": "markdown",
   "id": "6343d6c7",
   "metadata": {},
   "source": [
    "### Arrays \n",
    "\n",
    "Un **array** es una estructura de datos que consiste en una coleccion de elementos (valore o variables) cada uno identificado\n",
    "por un almenos un indice o clave. Un array se almacena de modo que la posicion de cada elemento se pueda calcular a partir de \n",
    "su tupla de indice mediante su formula matematica el tipo mas simple del array es un array lineal, tambiendo llamado array \n",
    "unidimensional"
   ]
  },
  {
   "cell_type": "markdown",
   "id": "a8f1c191",
   "metadata": {},
   "source": [
    "En Numpy:\n",
    "\n",
    "* Cada dimension se denomina **axis**.\n",
    "* El numero de dimensiones se denomina **rank**.\n",
    "* La lista de dimensiones con su correspondiente logitud se denomina **shape**.\n",
    "* El numero total de elementos (multiplicacion de la longitud de las dimensiones) se denomina **size**. "
   ]
  },
  {
   "cell_type": "code",
   "execution_count": 4,
   "id": "f02060f2",
   "metadata": {},
   "outputs": [
    {
     "data": {
      "text/plain": [
       "array([[0., 0., 0., 0.],\n",
       "       [0., 0., 0., 0.]])"
      ]
     },
     "execution_count": 4,
     "metadata": {},
     "output_type": "execute_result"
    }
   ],
   "source": [
    "# Array cuyos valores son todos 0\n",
    "\n",
    "# Definicion de dimensiones\n",
    "# ------>(filas,columnas)\n",
    "a=np.zeros((2,4))\n",
    "\n",
    "a"
   ]
  },
  {
   "cell_type": "markdown",
   "id": "0c391534",
   "metadata": {},
   "source": [
    "**a** es un array : \n",
    "\n",
    "* Con dos **axis** , la primera de logitud 2 y el segundo de logitud 4.\n",
    "* Con un **rank** igual a 2.\n",
    "* Con un **shape** igual (2,4). \n",
    "* Con un **size** igual a 8."
   ]
  },
  {
   "cell_type": "code",
   "execution_count": 5,
   "id": "bc3fc95a",
   "metadata": {},
   "outputs": [
    {
     "data": {
      "text/plain": [
       "(2, 4)"
      ]
     },
     "execution_count": 5,
     "metadata": {},
     "output_type": "execute_result"
    }
   ],
   "source": [
    "# Como obtener el shape de un array\n",
    "a.shape"
   ]
  },
  {
   "cell_type": "code",
   "execution_count": 6,
   "id": "50384ca5",
   "metadata": {},
   "outputs": [
    {
     "data": {
      "text/plain": [
       "2"
      ]
     },
     "execution_count": 6,
     "metadata": {},
     "output_type": "execute_result"
    }
   ],
   "source": [
    "# Obtener filas\n",
    "a.ndim"
   ]
  },
  {
   "cell_type": "code",
   "execution_count": 7,
   "id": "9f371edd",
   "metadata": {},
   "outputs": [
    {
     "data": {
      "text/plain": [
       "8"
      ]
     },
     "execution_count": 7,
     "metadata": {},
     "output_type": "execute_result"
    }
   ],
   "source": [
    "# Obtener el tamano del array\n",
    "a.size"
   ]
  },
  {
   "cell_type": "markdown",
   "id": "f2525993",
   "metadata": {},
   "source": [
    "### Creacion de arrays"
   ]
  },
  {
   "cell_type": "code",
   "execution_count": 8,
   "id": "3b4a22dc",
   "metadata": {},
   "outputs": [
    {
     "data": {
      "text/plain": [
       "array([[[0., 0., 0., 0.],\n",
       "        [0., 0., 0., 0.],\n",
       "        [0., 0., 0., 0.]],\n",
       "\n",
       "       [[0., 0., 0., 0.],\n",
       "        [0., 0., 0., 0.],\n",
       "        [0., 0., 0., 0.]]])"
      ]
     },
     "execution_count": 8,
     "metadata": {},
     "output_type": "execute_result"
    }
   ],
   "source": [
    "# Array cuyos valores son todos en 0\n",
    "np.zeros((2,3,4)) # dimension, filas, columnas"
   ]
  },
  {
   "cell_type": "code",
   "execution_count": 9,
   "id": "5fb0d91a",
   "metadata": {},
   "outputs": [
    {
     "data": {
      "text/plain": [
       "array([[[1., 1., 1., 1.],\n",
       "        [1., 1., 1., 1.],\n",
       "        [1., 1., 1., 1.],\n",
       "        [1., 1., 1., 1.]],\n",
       "\n",
       "       [[1., 1., 1., 1.],\n",
       "        [1., 1., 1., 1.],\n",
       "        [1., 1., 1., 1.],\n",
       "        [1., 1., 1., 1.]]])"
      ]
     },
     "execution_count": 9,
     "metadata": {},
     "output_type": "execute_result"
    }
   ],
   "source": [
    "# Array cuyos valores con todos 1 \n",
    "np.ones((2,4,4))"
   ]
  },
  {
   "cell_type": "code",
   "execution_count": 10,
   "id": "933178fe",
   "metadata": {},
   "outputs": [
    {
     "data": {
      "text/plain": [
       "array([[[8, 8, 8, 8],\n",
       "        [8, 8, 8, 8],\n",
       "        [8, 8, 8, 8]],\n",
       "\n",
       "       [[8, 8, 8, 8],\n",
       "        [8, 8, 8, 8],\n",
       "        [8, 8, 8, 8]]])"
      ]
     },
     "execution_count": 10,
     "metadata": {},
     "output_type": "execute_result"
    }
   ],
   "source": [
    "# Array cuyos valores son todos el valor indicado como segundo parametro de la funcion\n",
    "\n",
    "np.full((2,3,4),8)"
   ]
  },
  {
   "cell_type": "code",
   "execution_count": 11,
   "id": "2ef8429d",
   "metadata": {},
   "outputs": [
    {
     "data": {
      "text/plain": [
       "array([[[4.68202471e-310, 0.00000000e+000, 9.75385161e+199,\n",
       "         6.96787556e+228, 2.91819004e+257, 4.82406564e+228,\n",
       "         8.88237201e+247, 1.81596891e-152, 1.53866825e+256],\n",
       "        [2.46416973e-154, 4.40791399e+199, 6.62278149e+265,\n",
       "         7.21863726e+159, 2.26099002e+232, 1.04370246e+296,\n",
       "         7.69129246e+218, 2.44077856e-154, 5.29371880e+180],\n",
       "        [3.17095868e+180, 3.81423757e+228, 3.99909290e+252,\n",
       "         2.19993033e-152, 3.69028917e+180, 5.29272723e+199,\n",
       "         1.46922886e+195, 6.20203970e+223, 4.81408340e+199]],\n",
       "\n",
       "       [[8.18687286e-085, 2.12537611e+161, 6.97302468e+252,\n",
       "         3.17153687e-120, 1.04992024e-153, 2.14728853e+243,\n",
       "         5.98736697e+247, 6.19522209e+223, 1.45756573e-258],\n",
       "        [2.97397662e+222, 2.02556196e+174, 1.02124015e+277,\n",
       "         3.81995955e+180, 1.81596891e-152, 9.35319239e+252,\n",
       "         7.22594635e+159, 3.09391800e+169, 6.25904702e-085],\n",
       "        [1.67495943e+243, 5.80578623e-013, 2.66408499e+233,\n",
       "         4.36342120e-109, 2.54723495e+151, 2.90834901e-014,\n",
       "         4.16865225e+199, 5.98157057e-154, 1.02265094e-259]]])"
      ]
     },
     "execution_count": 11,
     "metadata": {},
     "output_type": "execute_result"
    }
   ],
   "source": [
    "# El resultado de np.empty no es predecible\n",
    "# Inicializa los valores del array con lo que hay en memoria en ese momento\n",
    "\n",
    "np.empty((2,3,9))"
   ]
  },
  {
   "cell_type": "code",
   "execution_count": 12,
   "id": "5879cedb",
   "metadata": {},
   "outputs": [
    {
     "data": {
      "text/plain": [
       "array([[1, 2, 3],\n",
       "       [4, 5, 6]])"
      ]
     },
     "execution_count": 12,
     "metadata": {},
     "output_type": "execute_result"
    }
   ],
   "source": [
    "# Inicializar un array con un array de Python \n",
    "b = np.array([[1,2,3],[4,5,6]])\n",
    "b"
   ]
  },
  {
   "cell_type": "code",
   "execution_count": 13,
   "id": "fa2d3c1b",
   "metadata": {},
   "outputs": [
    {
     "data": {
      "text/plain": [
       "(2, 3)"
      ]
     },
     "execution_count": 13,
     "metadata": {},
     "output_type": "execute_result"
    }
   ],
   "source": [
    "# Que hizo\n",
    "b.shape"
   ]
  },
  {
   "cell_type": "code",
   "execution_count": 14,
   "id": "722cf8b9",
   "metadata": {},
   "outputs": [
    {
     "name": "stdout",
     "output_type": "stream",
     "text": [
      "[0.         0.66666667 1.33333333 2.         2.66666667 3.33333333\n",
      " 4.         4.66666667 5.33333333 6.        ]\n"
     ]
    }
   ],
   "source": [
    "# Vamos a crear un array utilizando una funcion basada en rangos\n",
    "# (min,max,numero de elementos)\n",
    "print(np.linspace(0,6,10))"
   ]
  },
  {
   "cell_type": "code",
   "execution_count": 15,
   "id": "aea51c0a",
   "metadata": {},
   "outputs": [
    {
     "data": {
      "text/plain": [
       "array([[[0.50212444, 0.07347266, 0.64375065, 0.97713621],\n",
       "        [0.87446595, 0.18326303, 0.95499388, 0.67005281],\n",
       "        [0.33137712, 0.47963728, 0.63460952, 0.71306531]],\n",
       "\n",
       "       [[0.80605751, 0.18658318, 0.25781852, 0.63789427],\n",
       "        [0.22006636, 0.92243685, 0.01381014, 0.60491992],\n",
       "        [0.05823936, 0.55078642, 0.94660668, 0.10070614]]])"
      ]
     },
     "execution_count": 15,
     "metadata": {},
     "output_type": "execute_result"
    }
   ],
   "source": [
    "# Inicializar con valores aleatorios\n",
    "np.random.rand(2,3,4)"
   ]
  },
  {
   "cell_type": "code",
   "execution_count": 16,
   "id": "8f33a016",
   "metadata": {},
   "outputs": [
    {
     "data": {
      "text/plain": [
       "array([[-0.79435475,  1.48544725, -0.08488878, -2.07885727],\n",
       "       [-0.79869004, -1.37636745, -0.10992836,  1.35585232]])"
      ]
     },
     "execution_count": 16,
     "metadata": {},
     "output_type": "execute_result"
    }
   ],
   "source": [
    "# Inicializar un array con valores aleatorios conforme a una distribucion normal\n",
    "np.random.randn(2,4)"
   ]
  },
  {
   "cell_type": "code",
   "execution_count": 17,
   "id": "041b77da",
   "metadata": {},
   "outputs": [
    {
     "data": {
      "image/png": "[encoded data removed]",
      "text/plain": [
       "<Figure size 640x480 with 1 Axes>"
      ]
     },
     "metadata": {},
     "output_type": "display_data"
    }
   ],
   "source": [
    "# Nos permite visualizar el grafico\n",
    "%matplotlib inline\n",
    "import matplotlib.pyplot as plt \n",
    "\n",
    "c = np.random.randn(100000)\n",
    "# (bind=n) Define el grosor de las barras\n",
    "plt.hist(c,bins=5000)\n",
    "plt.show()"
   ]
  },
  {
   "cell_type": "code",
   "execution_count": 18,
   "id": "eea8c2db",
   "metadata": {},
   "outputs": [
    {
     "data": {
      "text/plain": [
       "array([[ 0.,  2.,  4.,  6.,  8.],\n",
       "       [ 1.,  3.,  5.,  7.,  9.],\n",
       "       [ 2.,  4.,  6.,  8., 10.]])"
      ]
     },
     "execution_count": 18,
     "metadata": {},
     "output_type": "execute_result"
    }
   ],
   "source": [
    "# Inicializar un array utilizando una funcion personalizada\n",
    "\n",
    "def func(x,y):\n",
    "    return x+2*y\n",
    "\n",
    "np.fromfunction(func,(3,5))\n"
   ]
  },
  {
   "cell_type": "markdown",
   "id": "fa573d97",
   "metadata": {},
   "source": [
    "### Acceso a los elementos de un Array\n",
    "\n",
    "#### Array Unidimensional"
   ]
  },
  {
   "cell_type": "code",
   "execution_count": 19,
   "id": "0dc7f36d",
   "metadata": {},
   "outputs": [
    {
     "name": "stdout",
     "output_type": "stream",
     "text": [
      "Shape: (6,)\n",
      "Array uni:  [1 2 3 4 5 6]\n"
     ]
    }
   ],
   "source": [
    "# Crear un array unidimensional\n",
    "\n",
    "array_uni = np.array([1,2,3,4,5,6])\n",
    "print(\"Shape:\",array_uni.shape)\n",
    "print(\"Array uni: \",array_uni)"
   ]
  },
  {
   "cell_type": "code",
   "execution_count": 20,
   "id": "0d45f087",
   "metadata": {},
   "outputs": [
    {
     "name": "stdout",
     "output_type": "stream",
     "text": [
      "4\n"
     ]
    }
   ],
   "source": [
    "# Acceder al quinto elemento del array\n",
    "\n",
    "print(array_uni[3])"
   ]
  },
  {
   "cell_type": "code",
   "execution_count": 21,
   "id": "dab5c808",
   "metadata": {},
   "outputs": [
    {
     "name": "stdout",
     "output_type": "stream",
     "text": [
      "[3 4]\n"
     ]
    }
   ],
   "source": [
    "# Acceder al tercer y cuarto elemento del array\n",
    "\n",
    "print(array_uni[2:4])"
   ]
  },
  {
   "cell_type": "code",
   "execution_count": 22,
   "id": "46348268",
   "metadata": {},
   "outputs": [
    {
     "data": {
      "text/plain": [
       "array([1, 4, 6])"
      ]
     },
     "execution_count": 22,
     "metadata": {},
     "output_type": "execute_result"
    }
   ],
   "source": [
    "# Acceder al elemento 0,3 y 5 del Array\n",
    "\n",
    "array_uni[[0,3,5]]"
   ]
  },
  {
   "cell_type": "markdown",
   "id": "21545656",
   "metadata": {},
   "source": [
    "#### Array Multidimensional"
   ]
  },
  {
   "cell_type": "code",
   "execution_count": 23,
   "id": "8c71b85d",
   "metadata": {},
   "outputs": [
    {
     "name": "stdout",
     "output_type": "stream",
     "text": [
      "Shape:  (2, 4)\n",
      "Array_multi: \n",
      " [[1 2 3 4]\n",
      " [5 6 7 8]]\n"
     ]
    }
   ],
   "source": [
    "# Crear una Array multidimensional\n",
    "array_multi = np.array([[1,2,3,4],[5,6,7,8]])\n",
    "\n",
    "print(\"Shape: \",array_multi.shape)\n",
    "print(\"Array_multi: \\n\",array_multi)"
   ]
  },
  {
   "cell_type": "code",
   "execution_count": 24,
   "id": "fef329c0",
   "metadata": {},
   "outputs": [
    {
     "data": {
      "text/plain": [
       "np.int64(4)"
      ]
     },
     "execution_count": 24,
     "metadata": {},
     "output_type": "execute_result"
    }
   ],
   "source": [
    "# Acceder al cuarto elemento del Array\n",
    "\n",
    "array_multi[0,3]\n"
   ]
  },
  {
   "cell_type": "code",
   "execution_count": 25,
   "id": "bb2e0e9d",
   "metadata": {},
   "outputs": [
    {
     "data": {
      "text/plain": [
       "array([5, 6, 7, 8])"
      ]
     },
     "execution_count": 25,
     "metadata": {},
     "output_type": "execute_result"
    }
   ],
   "source": [
    "# Acceder a la segunda fila del array\n",
    "\n",
    "array_multi[1,:]"
   ]
  },
  {
   "cell_type": "code",
   "execution_count": 26,
   "id": "65794806",
   "metadata": {},
   "outputs": [
    {
     "data": {
      "text/plain": [
       "array([3, 7])"
      ]
     },
     "execution_count": 26,
     "metadata": {},
     "output_type": "execute_result"
    }
   ],
   "source": [
    "# Acceder al tercer elemento de las 2 primeras filas del Array\n",
    "\n",
    "array_multi[0: 2,2]\n"
   ]
  },
  {
   "cell_type": "markdown",
   "id": "1815b29e",
   "metadata": {},
   "source": [
    "#### Modificar un Array"
   ]
  },
  {
   "cell_type": "code",
   "execution_count": 27,
   "id": "68f9936e",
   "metadata": {},
   "outputs": [
    {
     "name": "stdout",
     "output_type": "stream",
     "text": [
      "Shape:  (28,)\n",
      "Array 1: \n",
      " [ 0  1  2  3  4  5  6  7  8  9 10 11 12 13 14 15 16 17 18 19 20 21 22 23\n",
      " 24 25 26 27]\n"
     ]
    }
   ],
   "source": [
    "# Crear un Array Unidimensial e inicializarlo con el rango de elementos del 0 - 27\n",
    "\n",
    "array_1=np.arange(28)\n",
    "print(\"Shape: \",array_1.shape)\n",
    "print(\"Array 1: \\n\",array_1)"
   ]
  },
  {
   "cell_type": "code",
   "execution_count": 28,
   "id": "8d8682a8",
   "metadata": {},
   "outputs": [
    {
     "name": "stdout",
     "output_type": "stream",
     "text": [
      "Shape:  (7, 4)\n",
      "Array 1: \n",
      " [[ 0  1  2  3]\n",
      " [ 4  5  6  7]\n",
      " [ 8  9 10 11]\n",
      " [12 13 14 15]\n",
      " [16 17 18 19]\n",
      " [20 21 22 23]\n",
      " [24 25 26 27]]\n"
     ]
    }
   ],
   "source": [
    "# Cambiar las dimensiones del Array y sus longitudes \n",
    "\n",
    "array_1.shape = (7,4)\n",
    "print(\"Shape: \",array_1.shape)\n",
    "print(\"Array 1: \\n\",array_1)"
   ]
  },
  {
   "cell_type": "code",
   "execution_count": 29,
   "id": "7eca08d3",
   "metadata": {},
   "outputs": [
    {
     "name": "stdout",
     "output_type": "stream",
     "text": [
      "Shape:  (4, 7)\n",
      "Array 2: \n",
      " [[ 0  1  2  3  4  5  6]\n",
      " [ 7  8  9 10 11 12 13]\n",
      " [14 15 16 17 18 19 20]\n",
      " [21 22 23 24 25 26 27]]\n",
      "Array 1: \n",
      " [[ 0  1  2  3]\n",
      " [ 4  5  6  7]\n",
      " [ 8  9 10 11]\n",
      " [12 13 14 15]\n",
      " [16 17 18 19]\n",
      " [20 21 22 23]\n",
      " [24 25 26 27]]\n"
     ]
    }
   ],
   "source": [
    "# El ejemplo anterior devuelve un nuevo Array que apunta a los mismo datos \n",
    "# Nota: Las modificaciones de un array, modifican el otro array \n",
    "\n",
    "array_2 = array_1.reshape(4,7)\n",
    "print(\"Shape: \",array_2.shape)\n",
    "print(\"Array 2: \\n\",array_2)\n",
    "print(\"Array 1: \\n\",array_1)\n"
   ]
  },
  {
   "cell_type": "code",
   "execution_count": 30,
   "id": "a16cedb6",
   "metadata": {},
   "outputs": [
    {
     "name": "stdout",
     "output_type": "stream",
     "text": [
      "Array 1: \n",
      " [[ 0  1  2 20]\n",
      " [ 4  5  6  7]\n",
      " [ 8  9 10 11]\n",
      " [12 13 14 15]\n",
      " [16 17 18 19]\n",
      " [20 21 22 23]\n",
      " [24 25 26 27]]\n",
      "Array 2: \n",
      " [[ 0  1  2 20  4  5  6]\n",
      " [ 7  8  9 10 11 12 13]\n",
      " [14 15 16 17 18 19 20]\n",
      " [21 22 23 24 25 26 27]]\n"
     ]
    }
   ],
   "source": [
    "# Modificar el array devuelvo\n",
    "\n",
    "array_2[0,3] = 20\n",
    "\n",
    "print(\"Array 1: \\n\",array_1)\n",
    "print(\"Array 2: \\n\",array_2)\n",
    "\n",
    "# Los dos arrays apuntan a la misma localidad de memoria\n"
   ]
  },
  {
   "cell_type": "code",
   "execution_count": 31,
   "id": "a6ff1952",
   "metadata": {},
   "outputs": [
    {
     "name": "stdout",
     "output_type": "stream",
     "text": [
      "Array 1: [ 0  1  2 20  4  5  6  7  8  9 10 11 12 13 14 15 16 17 18 19 20 21 22 23\n",
      " 24 25 26 27]\n"
     ]
    }
   ],
   "source": [
    "# Regresar el Array devolviendo un nuevo Array de una sola dimension\n",
    "# Nota: El nuevo array apunta a los mismos datos \n",
    "print(\"Array 1:\",array_1.ravel())"
   ]
  },
  {
   "cell_type": "markdown",
   "id": "4eb05335",
   "metadata": {},
   "source": [
    "#### Operaciones Aritmeticas con Arrays "
   ]
  },
  {
   "cell_type": "code",
   "execution_count": 32,
   "id": "04aaefb5",
   "metadata": {},
   "outputs": [
    {
     "name": "stdout",
     "output_type": "stream",
     "text": [
      "Array 1: [ 2  4  6  8 10 12 14 16]\n",
      "Array 2: [0 1 2 3 4 5 6 7]\n"
     ]
    }
   ],
   "source": [
    "# Creacion de dos Arrays Unidimensionales\n",
    "array1_ = np.arange(2,18,2) \n",
    "array2_ = np.arange(8)\n",
    "print(\"Array 1:\",array1_)\n",
    "print(\"Array 2:\",array2_)"
   ]
  },
  {
   "cell_type": "code",
   "execution_count": 33,
   "id": "5bf4b0cf",
   "metadata": {},
   "outputs": [
    {
     "name": "stdout",
     "output_type": "stream",
     "text": [
      "[ 2  5  8 11 14 17 20 23]\n"
     ]
    }
   ],
   "source": [
    "# Suma \n",
    "print(array1_+array2_)"
   ]
  },
  {
   "cell_type": "code",
   "execution_count": null,
   "id": "f56509e2",
   "metadata": {},
   "outputs": [
    {
     "name": "stdout",
     "output_type": "stream",
     "text": [
      "[2 3 4 5 6 7 8 9]\n"
     ]
    }
   ],
   "source": [
    "# Resta \n",
    "\n",
    "print(array1_-array2_)"
   ]
  },
  {
   "cell_type": "code",
   "execution_count": 35,
   "id": "4465302e",
   "metadata": {},
   "outputs": [
    {
     "name": "stdout",
     "output_type": "stream",
     "text": [
      "[  0   4  12  24  40  60  84 112]\n"
     ]
    }
   ],
   "source": [
    "#Multiplicacion\n",
    "\n",
    "print(array1_*array2_)"
   ]
  },
  {
   "cell_type": "markdown",
   "id": "0f6670a2",
   "metadata": {},
   "source": [
    "### BroadCasting \n",
    "\n",
    "Si se aplican operaciones aritmeticas sobre arrays que no tengan la misma forma ***shape*** Numpy aplica una propiedad que se denomina ***Broadcasting***"
   ]
  },
  {
   "cell_type": "code",
   "execution_count": 37,
   "id": "975f1b36",
   "metadata": {},
   "outputs": [
    {
     "name": "stdout",
     "output_type": "stream",
     "text": [
      "Shape Array 1: [0 1 2 3 4]\n",
      "Array 1: [0 1 2 3 4]\n",
      "\n",
      "\n",
      "Shape Array 2: [3]\n",
      "Array 2: [3]\n"
     ]
    }
   ],
   "source": [
    "# Creacion de dos arrays unidimensionales\n",
    "array1 = np.arange(5)\n",
    "array2 = np.array([3])\n",
    "print(\"Shape Array 1:\",array1)\n",
    "print(\"Array 1:\",array1)\n",
    "print(\"\\n\")\n",
    "print(\"Shape Array 2:\",array2)\n",
    "print(\"Array 2:\",array2)"
   ]
  },
  {
   "cell_type": "code",
   "execution_count": 38,
   "id": "215c5aff",
   "metadata": {},
   "outputs": [
    {
     "data": {
      "text/plain": [
       "array([3, 4, 5, 6, 7])"
      ]
     },
     "execution_count": 38,
     "metadata": {},
     "output_type": "execute_result"
    }
   ],
   "source": [
    "# Suma de ambos arreglos\n",
    "array1+array2"
   ]
  },
  {
   "cell_type": "code",
   "execution_count": 44,
   "id": "22591904",
   "metadata": {},
   "outputs": [
    {
     "name": "stdout",
     "output_type": "stream",
     "text": [
      "Shape Array 1: (2, 3)\n",
      "Array 1: [[0 1 2]\n",
      " [3 4 5]]\n",
      "\n",
      "\n",
      "Shape Array 2: (3,)\n",
      "Array 2: [ 6 10 14]\n"
     ]
    }
   ],
   "source": [
    "# Creacion de un  array Multidimensional y Unidimensional\n",
    "array1 = np.arange(6)\n",
    "array1.shape = (2,3)\n",
    "array2 = np.arange(6,18,4)\n",
    "print(\"Shape Array 1:\",array1.shape)\n",
    "print(\"Array 1:\",array1)\n",
    "print(\"\\n\")\n",
    "print(\"Shape Array 2:\",array2.shape) \n",
    "print(\"Array 2:\",array2)"
   ]
  },
  {
   "cell_type": "code",
   "execution_count": 45,
   "id": "a08248d3",
   "metadata": {},
   "outputs": [
    {
     "data": {
      "text/plain": [
       "array([[ 6, 11, 16],\n",
       "       [ 9, 14, 19]])"
      ]
     },
     "execution_count": 45,
     "metadata": {},
     "output_type": "execute_result"
    }
   ],
   "source": [
    "#Suma de ambos arrays \n",
    "\n",
    "array1+array2"
   ]
  },
  {
   "cell_type": "markdown",
   "id": "be014c46",
   "metadata": {},
   "source": [
    "### Funciones estadisticas con arrays"
   ]
  },
  {
   "cell_type": "code",
   "execution_count": 46,
   "id": "da28f26b",
   "metadata": {},
   "outputs": [
    {
     "name": "stdout",
     "output_type": "stream",
     "text": [
      "Array 1: [ 1  3  5  7  9 11 13 15 17 19]\n"
     ]
    }
   ],
   "source": [
    "# Creacion de un array unidimensional\n",
    "\n",
    "array1 = np.arange(1,20,2)\n",
    "print(\"Array 1:\",array1)"
   ]
  },
  {
   "cell_type": "code",
   "execution_count": 47,
   "id": "5e75d13c",
   "metadata": {},
   "outputs": [
    {
     "data": {
      "text/plain": [
       "np.float64(10.0)"
      ]
     },
     "execution_count": 47,
     "metadata": {},
     "output_type": "execute_result"
    }
   ],
   "source": [
    "# Calcular la media de elementos del array\n",
    "array1.mean()"
   ]
  },
  {
   "cell_type": "code",
   "execution_count": 48,
   "id": "88bc48ce",
   "metadata": {},
   "outputs": [
    {
     "data": {
      "text/plain": [
       "np.int64(100)"
      ]
     },
     "execution_count": 48,
     "metadata": {},
     "output_type": "execute_result"
    }
   ],
   "source": [
    "# Suma de los elementos del array\n",
    "array1.sum()"
   ]
  },
  {
   "cell_type": "markdown",
   "id": "dda6ae4e",
   "metadata": {},
   "source": [
    "Funciones universales proporcionadas por Numpy: ***ufunc***"
   ]
  },
  {
   "cell_type": "code",
   "execution_count": 49,
   "id": "c472bce6",
   "metadata": {},
   "outputs": [
    {
     "data": {
      "text/plain": [
       "array([  1,   9,  25,  49,  81, 121, 169, 225, 289, 361])"
      ]
     },
     "execution_count": 49,
     "metadata": {},
     "output_type": "execute_result"
    }
   ],
   "source": [
    "# Cuadrado de los elementos del array\n",
    "np.square(array1)"
   ]
  },
  {
   "cell_type": "code",
   "execution_count": 50,
   "id": "679617bd",
   "metadata": {},
   "outputs": [
    {
     "data": {
      "text/plain": [
       "array([1.        , 1.73205081, 2.23606798, 2.64575131, 3.        ,\n",
       "       3.31662479, 3.60555128, 3.87298335, 4.12310563, 4.35889894])"
      ]
     },
     "execution_count": 50,
     "metadata": {},
     "output_type": "execute_result"
    }
   ],
   "source": [
    "# Raiz cuadrada de los elementos del array\n",
    "np.sqrt(array1)\n"
   ]
  },
  {
   "cell_type": "code",
   "execution_count": 51,
   "id": "506c721b",
   "metadata": {},
   "outputs": [
    {
     "data": {
      "text/plain": [
       "array([2.71828183e+00, 2.00855369e+01, 1.48413159e+02, 1.09663316e+03,\n",
       "       8.10308393e+03, 5.98741417e+04, 4.42413392e+05, 3.26901737e+06,\n",
       "       2.41549528e+07, 1.78482301e+08])"
      ]
     },
     "execution_count": 51,
     "metadata": {},
     "output_type": "execute_result"
    }
   ],
   "source": [
    "# Exponencial de los elementos del Array\n",
    "np.exp(array1)"
   ]
  },
  {
   "cell_type": "code",
   "execution_count": 52,
   "id": "89fb7e23",
   "metadata": {},
   "outputs": [
    {
     "data": {
      "text/plain": [
       "array([0.        , 1.09861229, 1.60943791, 1.94591015, 2.19722458,\n",
       "       2.39789527, 2.56494936, 2.7080502 , 2.83321334, 2.94443898])"
      ]
     },
     "execution_count": 52,
     "metadata": {},
     "output_type": "execute_result"
    }
   ],
   "source": [
    "# Logaritmo natural de los elementos del array\n",
    "np.log(array1)"
   ]
  }
 ],
 "metadata": {
  "kernelspec": {
   "display_name": ".venv",
   "language": "python",
   "name": "python3"
  },
  "language_info": {
   "codemirror_mode": {
    "name": "ipython",
    "version": 3
   },
   "file_extension": ".py",
   "mimetype": "text/x-python",
   "name": "python",
   "nbconvert_exporter": "python",
   "pygments_lexer": "ipython3",
   "version": "3.13.7"
  }
 },
 "nbformat": 4,
 "nbformat_minor": 5
}
